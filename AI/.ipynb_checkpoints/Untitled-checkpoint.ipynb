{
 "cells": [
  {
   "cell_type": "code",
   "execution_count": 4,
   "id": "0920c304",
   "metadata": {},
   "outputs": [
    {
     "name": "stderr",
     "output_type": "stream",
     "text": [
      "/Users/bytedance/Documents/python_envs/web_venv/lib/python3.7/site-packages/IPython/core/interactiveshell.py:3553: DtypeWarning: Columns (0,19,49,59,118,129,130,131,134,135,136,139,145,146,147) have mixed types.Specify dtype option on import or set low_memory=False.\n",
      "  exec(code_obj, self.user_global_ns, self.user_ns)\n"
     ]
    },
    {
     "data": {
      "text/plain": [
       "<bound method DataFrame.info of                                                        id  member_id  \\\n",
       "0                                                68407277        NaN   \n",
       "1                                                68355089        NaN   \n",
       "2                                                68341763        NaN   \n",
       "3                                                66310712        NaN   \n",
       "4                                                68476807        NaN   \n",
       "...                                                   ...        ...   \n",
       "2260696                                          88985880        NaN   \n",
       "2260697                                          88224441        NaN   \n",
       "2260698                                          88215728        NaN   \n",
       "2260699  Total amount funded in policy code 1: 1465324575        NaN   \n",
       "2260700   Total amount funded in policy code 2: 521953170        NaN   \n",
       "\n",
       "         loan_amnt  funded_amnt  funded_amnt_inv        term  int_rate  \\\n",
       "0             3600         3600             3600   36 months        14   \n",
       "1            24700        24700            24700   36 months        12   \n",
       "2            20000        20000            20000   60 months        11   \n",
       "3            35000        35000            35000   60 months        15   \n",
       "4            10400        10400            10400   60 months        22   \n",
       "...            ...          ...              ...         ...       ...   \n",
       "2260696      40000        40000            40000   60 months        10   \n",
       "2260697      24000        24000            24000   60 months        14   \n",
       "2260698      14000        14000            14000   60 months        14   \n",
       "2260699        NaN          NaN              NaN         NaN       NaN   \n",
       "2260700        NaN          NaN              NaN         NaN       NaN   \n",
       "\n",
       "         installment grade sub_grade  ... hardship_payoff_balance_amount  \\\n",
       "0                123     C        C4  ...                            NaN   \n",
       "1                820     C        C1  ...                            NaN   \n",
       "2                433     B        B4  ...                            NaN   \n",
       "3                830     C        C5  ...                            NaN   \n",
       "4                290     F        F1  ...                            NaN   \n",
       "...              ...   ...       ...  ...                            ...   \n",
       "2260696          860     B        B3  ...                            NaN   \n",
       "2260697          565     C        C4  ...                            NaN   \n",
       "2260698          329     C        C4  ...                            NaN   \n",
       "2260699          NaN   NaN       NaN  ...                            NaN   \n",
       "2260700          NaN   NaN       NaN  ...                            NaN   \n",
       "\n",
       "        hardship_last_payment_amount disbursement_method  \\\n",
       "0                                NaN                Cash   \n",
       "1                                NaN                Cash   \n",
       "2                                NaN                Cash   \n",
       "3                                NaN                Cash   \n",
       "4                                NaN                Cash   \n",
       "...                              ...                 ...   \n",
       "2260696                          NaN                Cash   \n",
       "2260697                          NaN                Cash   \n",
       "2260698                          NaN                Cash   \n",
       "2260699                          NaN                 NaN   \n",
       "2260700                          NaN                 NaN   \n",
       "\n",
       "         debt_settlement_flag debt_settlement_flag_date settlement_status  \\\n",
       "0                           N                       NaN               NaN   \n",
       "1                           N                       NaN               NaN   \n",
       "2                           N                       NaN               NaN   \n",
       "3                           N                       NaN               NaN   \n",
       "4                           N                       NaN               NaN   \n",
       "...                       ...                       ...               ...   \n",
       "2260696                     N                       NaN               NaN   \n",
       "2260697                     Y                  Mar-2019            ACTIVE   \n",
       "2260698                     N                       NaN               NaN   \n",
       "2260699                   NaN                       NaN               NaN   \n",
       "2260700                   NaN                       NaN               NaN   \n",
       "\n",
       "        settlement_date settlement_amount settlement_percentage  \\\n",
       "0                   NaN               NaN                   NaN   \n",
       "1                   NaN               NaN                   NaN   \n",
       "2                   NaN               NaN                   NaN   \n",
       "3                   NaN               NaN                   NaN   \n",
       "4                   NaN               NaN                   NaN   \n",
       "...                 ...               ...                   ...   \n",
       "2260696             NaN               NaN                   NaN   \n",
       "2260697        Mar-2019             10000                    45   \n",
       "2260698             NaN               NaN                   NaN   \n",
       "2260699             NaN               NaN                   NaN   \n",
       "2260700             NaN               NaN                   NaN   \n",
       "\n",
       "        settlement_term  \n",
       "0                   NaN  \n",
       "1                   NaN  \n",
       "2                   NaN  \n",
       "3                   NaN  \n",
       "4                   NaN  \n",
       "...                 ...  \n",
       "2260696             NaN  \n",
       "2260697               1  \n",
       "2260698             NaN  \n",
       "2260699             NaN  \n",
       "2260700             NaN  \n",
       "\n",
       "[2260701 rows x 151 columns]>"
      ]
     },
     "execution_count": 4,
     "metadata": {},
     "output_type": "execute_result"
    }
   ],
   "source": [
    "%matplotlib inline\n",
    "import pandas as pd\n",
    "from matplotlib import pyplot as plt\n",
    "pd.set_option('display.float_format', lambda x: '%.0f' % x)\n",
    "loan = pd.read_csv('archive/accepted_2007_to_2018Q4.csv.gz', compression='gzip', low_memory=True)\n",
    "loan.info"
   ]
  },
  {
   "cell_type": "code",
   "execution_count": 6,
   "id": "1b870ff7",
   "metadata": {},
   "outputs": [
    {
     "data": {
      "text/plain": [
       "<bound method DataFrame.info of                id  loan_amnt        term  int_rate sub_grade emp_length grade  \\\n",
       "0        68407277       3600   36 months        14        C4  10+ years     C   \n",
       "1        68355089      24700   36 months        12        C1  10+ years     C   \n",
       "2        68341763      20000   60 months        11        B4  10+ years     B   \n",
       "4        68476807      10400   60 months        22        F1    3 years     F   \n",
       "6        68476668      20000   36 months         9        B2  10+ years     B   \n",
       "...           ...        ...         ...       ...       ...        ...   ...   \n",
       "2260693  89955820      24000   60 months        10        B3    4 years     B   \n",
       "2260695  88977788      24000   60 months        10        B3  10+ years     B   \n",
       "2260696  88985880      40000   60 months        10        B3    9 years     B   \n",
       "2260697  88224441      24000   60 months        14        C4    6 years     C   \n",
       "2260698  88215728      14000   60 months        14        C4  10+ years     C   \n",
       "\n",
       "         annual_inc  loan_status  dti  mths_since_recent_inq  revol_util  \\\n",
       "0             55000   Fully Paid    6                      4          30   \n",
       "1             65000   Fully Paid   16                      0          19   \n",
       "2             63000   Fully Paid   11                     10          56   \n",
       "4            104433   Fully Paid   25                      1          64   \n",
       "6            180000   Fully Paid   15                     10          84   \n",
       "...             ...          ...  ...                    ...         ...   \n",
       "2260693      125000      Current   11                     13          22   \n",
       "2260695      108000      Current   35                      4          39   \n",
       "2260696      227000      Current   13                      1          65   \n",
       "2260697      110000  Charged Off   18                      9          68   \n",
       "2260698       95000      Current   23                      6          54   \n",
       "\n",
       "         bc_open_to_buy  bc_util  num_op_rev_tl  \n",
       "0                  1506       37              4  \n",
       "1                 57830       27             20  \n",
       "2                  2737       56              4  \n",
       "4                  4567       78              7  \n",
       "6                     0      103              9  \n",
       "...                 ...      ...            ...  \n",
       "2260693           73489       22             14  \n",
       "2260695           15307       45             19  \n",
       "2260696            4070       67              3  \n",
       "2260697            4660       78              8  \n",
       "2260698            1838       81              5  \n",
       "\n",
       "[1803647 rows x 15 columns]>"
      ]
     },
     "execution_count": 6,
     "metadata": {},
     "output_type": "execute_result"
    }
   ],
   "source": [
    "loans = loan[['id', 'loan_amnt', 'term','int_rate', 'sub_grade', 'emp_length','grade', 'annual_inc', 'loan_status', 'dti', 'mths_since_recent_inq', 'revol_util', 'bc_open_to_buy', 'bc_util', 'num_op_rev_tl']]\n",
    "\n",
    "# remove missing values \n",
    "loans = loans.dropna()\n",
    "loans.info"
   ]
  },
  {
   "cell_type": "code",
   "execution_count": 10,
   "id": "6c875387",
   "metadata": {},
   "outputs": [],
   "source": [
    "\n",
    "# 特征数据清洗，异常值，缺失值\n",
    "q_low = loans[\"annual_inc\"].quantile(0.08)\n",
    "q_hi = loans[\"annual_inc\"].quantile(0.92)\n",
    "loans = loans[(loans[\"annual_inc\"] < q_hi) & (loans[\"annual_inc\"] > q_low)]\n",
    "loans = loans[(loans[\"dti\"] <= 45)]\n",
    "q_hi = loans[\"bc_open_to_buy\"].quantile(0.95)\n",
    "loans = loans[(loans[\"bc_open_to_buy\"] < q_hi)]\n",
    "loans = loans[(loans[\"bc_util\"] <= 160)]\n",
    "loans = loans[(loans[\"revol_util\"] <= 150)]\n",
    "loans = loans[(loans[\"num_op_rev_tl\"] <= 35)]\n",
    "\n",
    "cleaner_app_type = {\n",
    "    \"term\": {\" 36 months\": 1.0, \" 60 months\": 2.0},\n",
    "    \"sub_grade\": {\n",
    "        \"A1\": 1.0,\n",
    "        \"A2\": 2.0,\n",
    "        \"A3\": 3.0,\n",
    "        \"A4\": 4.0,\n",
    "        \"A5\": 5.0,\n",
    "        \"B1\": 11.0,\n",
    "        \"B2\": 12.0,\n",
    "        \"B3\": 13.0,\n",
    "        \"B4\": 14.0,\n",
    "        \"B5\": 15.0,\n",
    "        \"C1\": 21.0,\n",
    "        \"C2\": 22.0,\n",
    "        \"C3\": 23.0,\n",
    "        \"C4\": 24.0,\n",
    "        \"C5\": 25.0,\n",
    "        \"D1\": 31.0,\n",
    "        \"D2\": 32.0,\n",
    "        \"D3\": 33.0,\n",
    "        \"D4\": 34.0,\n",
    "        \"D5\": 35.0,\n",
    "        \"E1\": 41.0,\n",
    "        \"E2\": 42.0,\n",
    "        \"E3\": 43.0,\n",
    "        \"E4\": 44.0,\n",
    "        \"E5\": 45.0,\n",
    "        \"F1\": 51.0,\n",
    "        \"F2\": 52.0,\n",
    "        \"F3\": 53.0,\n",
    "        \"F4\": 54.0,\n",
    "        \"F5\": 55.0,\n",
    "        \"G1\": 61.0,\n",
    "        \"G2\": 62.0,\n",
    "        \"G3\": 63.0,\n",
    "        \"G4\": 64.0,\n",
    "        \"G5\": 65.0,\n",
    "    },\n",
    "    \"emp_length\": {\n",
    "        \"< 1 year\": 0.0,\n",
    "        \"1 year\": 1.0,\n",
    "        \"2 years\": 2.0,\n",
    "        \"3 years\": 3.0,\n",
    "        \"4 years\": 4.0,\n",
    "        \"5 years\": 5.0,\n",
    "        \"6 years\": 6.0,\n",
    "        \"7 years\": 7.0,\n",
    "        \"8 years\": 8.0,\n",
    "        \"9 years\": 9.0,\n",
    "        \"10+ years\": 10.0,\n",
    "    },\n",
    "}\n",
    "loans = loans.replace(cleaner_app_type)"
   ]
  },
  {
   "cell_type": "code",
   "execution_count": 22,
   "id": "4a6a1eff",
   "metadata": {},
   "outputs": [
    {
     "name": "stdout",
     "output_type": "stream",
     "text": [
      "<class 'str'> id\n",
      "<class 'str'> loan_amnt\n",
      "<class 'str'> term\n",
      "<class 'str'> int_rate\n",
      "<class 'str'> sub_grade\n",
      "<class 'str'> emp_length\n",
      "<class 'str'> grade\n",
      "<class 'str'> annual_inc\n",
      "<class 'str'> loan_status\n",
      "<class 'str'> dti\n",
      "<class 'str'> mths_since_recent_inq\n",
      "<class 'str'> revol_util\n",
      "<class 'str'> bc_open_to_buy\n",
      "<class 'str'> bc_util\n",
      "<class 'str'> num_op_rev_tl\n"
     ]
    },
    {
     "data": {
      "text/plain": [
       "0          3600\n",
       "2         20000\n",
       "4         10400\n",
       "7         20000\n",
       "8         10000\n",
       "           ... \n",
       "2260686   23800\n",
       "2260687   28000\n",
       "2260695   24000\n",
       "2260697   24000\n",
       "2260698   14000\n",
       "Name: loan_amnt, Length: 1120886, dtype: float64"
      ]
     },
     "execution_count": 22,
     "metadata": {},
     "output_type": "execute_result"
    }
   ],
   "source": [
    "for each in loans.columns:\n",
    "    print(type(each),each)\n"
   ]
  },
  {
   "cell_type": "code",
   "execution_count": 33,
   "id": "45c25824",
   "metadata": {},
   "outputs": [
    {
     "data": {
      "text/plain": [
       "0          C\n",
       "2          B\n",
       "4          F\n",
       "7          B\n",
       "8          A\n",
       "          ..\n",
       "2260686    C\n",
       "2260687    B\n",
       "2260695    B\n",
       "2260697    C\n",
       "2260698    C\n",
       "Name: grade, Length: 1120886, dtype: object"
      ]
     },
     "execution_count": 33,
     "metadata": {},
     "output_type": "execute_result"
    }
   ],
   "source": [
    "loans['grade']"
   ]
  },
  {
   "cell_type": "code",
   "execution_count": 11,
   "id": "3dd98a59",
   "metadata": {},
   "outputs": [
    {
     "ename": "ValueError",
     "evalue": "could not convert string to float: 'C'",
     "output_type": "error",
     "traceback": [
      "\u001b[0;31m---------------------------------------------------------------------------\u001b[0m",
      "\u001b[0;31mValueError\u001b[0m                                Traceback (most recent call last)",
      "\u001b[0;32m/var/folders/ww/44hkzk6j63l3q9r4dgn978900000gn/T/ipykernel_44313/1231931177.py\u001b[0m in \u001b[0;36m<module>\u001b[0;34m\u001b[0m\n\u001b[1;32m      1\u001b[0m \u001b[0;32mfrom\u001b[0m \u001b[0msklearn\u001b[0m\u001b[0;34m.\u001b[0m\u001b[0mfeature_selection\u001b[0m \u001b[0;32mimport\u001b[0m \u001b[0mVarianceThreshold\u001b[0m\u001b[0;34m\u001b[0m\u001b[0;34m\u001b[0m\u001b[0m\n\u001b[1;32m      2\u001b[0m \u001b[0mvariance\u001b[0m \u001b[0;34m=\u001b[0m \u001b[0mVarianceThreshold\u001b[0m\u001b[0;34m(\u001b[0m\u001b[0mthreshold\u001b[0m \u001b[0;34m=\u001b[0m \u001b[0;34m(\u001b[0m\u001b[0;36m.9\u001b[0m \u001b[0;34m*\u001b[0m \u001b[0;34m(\u001b[0m\u001b[0;36m1\u001b[0m \u001b[0;34m-\u001b[0m \u001b[0;36m.9\u001b[0m\u001b[0;34m)\u001b[0m\u001b[0;34m)\u001b[0m\u001b[0;34m)\u001b[0m\u001b[0;34m\u001b[0m\u001b[0;34m\u001b[0m\u001b[0m\n\u001b[0;32m----> 3\u001b[0;31m \u001b[0mvariance\u001b[0m\u001b[0;34m.\u001b[0m\u001b[0mfit\u001b[0m\u001b[0;34m(\u001b[0m\u001b[0mloans\u001b[0m\u001b[0;34m)\u001b[0m\u001b[0;34m\u001b[0m\u001b[0;34m\u001b[0m\u001b[0m\n\u001b[0m\u001b[1;32m      4\u001b[0m \u001b[0mvariance\u001b[0m\u001b[0;34m.\u001b[0m\u001b[0mget_support\u001b[0m\u001b[0;34m(\u001b[0m\u001b[0;34m)\u001b[0m\u001b[0;34m\u001b[0m\u001b[0;34m\u001b[0m\u001b[0m\n",
      "\u001b[0;32m~/Documents/python_envs/web_venv/lib/python3.7/site-packages/sklearn/feature_selection/_variance_threshold.py\u001b[0m in \u001b[0;36mfit\u001b[0;34m(self, X, y)\u001b[0m\n\u001b[1;32m     93\u001b[0m             \u001b[0maccept_sparse\u001b[0m\u001b[0;34m=\u001b[0m\u001b[0;34m(\u001b[0m\u001b[0;34m\"csr\"\u001b[0m\u001b[0;34m,\u001b[0m \u001b[0;34m\"csc\"\u001b[0m\u001b[0;34m)\u001b[0m\u001b[0;34m,\u001b[0m\u001b[0;34m\u001b[0m\u001b[0;34m\u001b[0m\u001b[0m\n\u001b[1;32m     94\u001b[0m             \u001b[0mdtype\u001b[0m\u001b[0;34m=\u001b[0m\u001b[0mnp\u001b[0m\u001b[0;34m.\u001b[0m\u001b[0mfloat64\u001b[0m\u001b[0;34m,\u001b[0m\u001b[0;34m\u001b[0m\u001b[0;34m\u001b[0m\u001b[0m\n\u001b[0;32m---> 95\u001b[0;31m             \u001b[0mforce_all_finite\u001b[0m\u001b[0;34m=\u001b[0m\u001b[0;34m\"allow-nan\"\u001b[0m\u001b[0;34m,\u001b[0m\u001b[0;34m\u001b[0m\u001b[0;34m\u001b[0m\u001b[0m\n\u001b[0m\u001b[1;32m     96\u001b[0m         )\n\u001b[1;32m     97\u001b[0m \u001b[0;34m\u001b[0m\u001b[0m\n",
      "\u001b[0;32m~/Documents/python_envs/web_venv/lib/python3.7/site-packages/sklearn/base.py\u001b[0m in \u001b[0;36m_validate_data\u001b[0;34m(self, X, y, reset, validate_separately, **check_params)\u001b[0m\n\u001b[1;32m    564\u001b[0m             \u001b[0;32mraise\u001b[0m \u001b[0mValueError\u001b[0m\u001b[0;34m(\u001b[0m\u001b[0;34m\"Validation should be done on X, y or both.\"\u001b[0m\u001b[0;34m)\u001b[0m\u001b[0;34m\u001b[0m\u001b[0;34m\u001b[0m\u001b[0m\n\u001b[1;32m    565\u001b[0m         \u001b[0;32melif\u001b[0m \u001b[0;32mnot\u001b[0m \u001b[0mno_val_X\u001b[0m \u001b[0;32mand\u001b[0m \u001b[0mno_val_y\u001b[0m\u001b[0;34m:\u001b[0m\u001b[0;34m\u001b[0m\u001b[0;34m\u001b[0m\u001b[0m\n\u001b[0;32m--> 566\u001b[0;31m             \u001b[0mX\u001b[0m \u001b[0;34m=\u001b[0m \u001b[0mcheck_array\u001b[0m\u001b[0;34m(\u001b[0m\u001b[0mX\u001b[0m\u001b[0;34m,\u001b[0m \u001b[0;34m**\u001b[0m\u001b[0mcheck_params\u001b[0m\u001b[0;34m)\u001b[0m\u001b[0;34m\u001b[0m\u001b[0;34m\u001b[0m\u001b[0m\n\u001b[0m\u001b[1;32m    567\u001b[0m             \u001b[0mout\u001b[0m \u001b[0;34m=\u001b[0m \u001b[0mX\u001b[0m\u001b[0;34m\u001b[0m\u001b[0;34m\u001b[0m\u001b[0m\n\u001b[1;32m    568\u001b[0m         \u001b[0;32melif\u001b[0m \u001b[0mno_val_X\u001b[0m \u001b[0;32mand\u001b[0m \u001b[0;32mnot\u001b[0m \u001b[0mno_val_y\u001b[0m\u001b[0;34m:\u001b[0m\u001b[0;34m\u001b[0m\u001b[0;34m\u001b[0m\u001b[0m\n",
      "\u001b[0;32m~/Documents/python_envs/web_venv/lib/python3.7/site-packages/sklearn/utils/validation.py\u001b[0m in \u001b[0;36mcheck_array\u001b[0;34m(array, accept_sparse, accept_large_sparse, dtype, order, copy, force_all_finite, ensure_2d, allow_nd, ensure_min_samples, ensure_min_features, estimator)\u001b[0m\n\u001b[1;32m    744\u001b[0m                     \u001b[0marray\u001b[0m \u001b[0;34m=\u001b[0m \u001b[0marray\u001b[0m\u001b[0;34m.\u001b[0m\u001b[0mastype\u001b[0m\u001b[0;34m(\u001b[0m\u001b[0mdtype\u001b[0m\u001b[0;34m,\u001b[0m \u001b[0mcasting\u001b[0m\u001b[0;34m=\u001b[0m\u001b[0;34m\"unsafe\"\u001b[0m\u001b[0;34m,\u001b[0m \u001b[0mcopy\u001b[0m\u001b[0;34m=\u001b[0m\u001b[0;32mFalse\u001b[0m\u001b[0;34m)\u001b[0m\u001b[0;34m\u001b[0m\u001b[0;34m\u001b[0m\u001b[0m\n\u001b[1;32m    745\u001b[0m                 \u001b[0;32melse\u001b[0m\u001b[0;34m:\u001b[0m\u001b[0;34m\u001b[0m\u001b[0;34m\u001b[0m\u001b[0m\n\u001b[0;32m--> 746\u001b[0;31m                     \u001b[0marray\u001b[0m \u001b[0;34m=\u001b[0m \u001b[0mnp\u001b[0m\u001b[0;34m.\u001b[0m\u001b[0masarray\u001b[0m\u001b[0;34m(\u001b[0m\u001b[0marray\u001b[0m\u001b[0;34m,\u001b[0m \u001b[0morder\u001b[0m\u001b[0;34m=\u001b[0m\u001b[0morder\u001b[0m\u001b[0;34m,\u001b[0m \u001b[0mdtype\u001b[0m\u001b[0;34m=\u001b[0m\u001b[0mdtype\u001b[0m\u001b[0;34m)\u001b[0m\u001b[0;34m\u001b[0m\u001b[0;34m\u001b[0m\u001b[0m\n\u001b[0m\u001b[1;32m    747\u001b[0m             \u001b[0;32mexcept\u001b[0m \u001b[0mComplexWarning\u001b[0m \u001b[0;32mas\u001b[0m \u001b[0mcomplex_warning\u001b[0m\u001b[0;34m:\u001b[0m\u001b[0;34m\u001b[0m\u001b[0;34m\u001b[0m\u001b[0m\n\u001b[1;32m    748\u001b[0m                 raise ValueError(\n",
      "\u001b[0;32m~/Documents/python_envs/web_venv/lib/python3.7/site-packages/pandas/core/generic.py\u001b[0m in \u001b[0;36m__array__\u001b[0;34m(self, dtype)\u001b[0m\n\u001b[1;32m   1991\u001b[0m \u001b[0;34m\u001b[0m\u001b[0m\n\u001b[1;32m   1992\u001b[0m     \u001b[0;32mdef\u001b[0m \u001b[0m__array__\u001b[0m\u001b[0;34m(\u001b[0m\u001b[0mself\u001b[0m\u001b[0;34m,\u001b[0m \u001b[0mdtype\u001b[0m\u001b[0;34m:\u001b[0m \u001b[0mNpDtype\u001b[0m \u001b[0;34m|\u001b[0m \u001b[0;32mNone\u001b[0m \u001b[0;34m=\u001b[0m \u001b[0;32mNone\u001b[0m\u001b[0;34m)\u001b[0m \u001b[0;34m->\u001b[0m \u001b[0mnp\u001b[0m\u001b[0;34m.\u001b[0m\u001b[0mndarray\u001b[0m\u001b[0;34m:\u001b[0m\u001b[0;34m\u001b[0m\u001b[0;34m\u001b[0m\u001b[0m\n\u001b[0;32m-> 1993\u001b[0;31m         \u001b[0;32mreturn\u001b[0m \u001b[0mnp\u001b[0m\u001b[0;34m.\u001b[0m\u001b[0masarray\u001b[0m\u001b[0;34m(\u001b[0m\u001b[0mself\u001b[0m\u001b[0;34m.\u001b[0m\u001b[0m_values\u001b[0m\u001b[0;34m,\u001b[0m \u001b[0mdtype\u001b[0m\u001b[0;34m=\u001b[0m\u001b[0mdtype\u001b[0m\u001b[0;34m)\u001b[0m\u001b[0;34m\u001b[0m\u001b[0;34m\u001b[0m\u001b[0m\n\u001b[0m\u001b[1;32m   1994\u001b[0m \u001b[0;34m\u001b[0m\u001b[0m\n\u001b[1;32m   1995\u001b[0m     def __array_wrap__(\n",
      "\u001b[0;31mValueError\u001b[0m: could not convert string to float: 'C'"
     ]
    }
   ],
   "source": [
    "from sklearn.feature_selection import VarianceThreshold\n",
    "variance = VarianceThreshold(threshold = (.9 * (1 - .9)))\n",
    "variance.fit(loans)\n",
    "variance.get_support()\n"
   ]
  }
 ],
 "metadata": {
  "kernelspec": {
   "display_name": "Python 3 (ipykernel)",
   "language": "python",
   "name": "python3"
  },
  "language_info": {
   "codemirror_mode": {
    "name": "ipython",
    "version": 3
   },
   "file_extension": ".py",
   "mimetype": "text/x-python",
   "name": "python",
   "nbconvert_exporter": "python",
   "pygments_lexer": "ipython3",
   "version": "3.7.3"
  }
 },
 "nbformat": 4,
 "nbformat_minor": 5
}
